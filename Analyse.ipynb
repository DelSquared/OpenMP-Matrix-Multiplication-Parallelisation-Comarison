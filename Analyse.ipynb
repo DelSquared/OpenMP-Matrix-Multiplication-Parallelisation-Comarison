{
 "cells": [
  {
   "cell_type": "markdown",
   "metadata": {},
   "source": [
    "# Analysis of Times Recorded"
   ]
  },
  {
   "cell_type": "markdown",
   "metadata": {},
   "source": [
    "The intent of this Jupyter Notebook is to put into a more readable manner the contents of the `analyse.py` script and explain what is going on"
   ]
  },
  {
   "cell_type": "code",
   "execution_count": 1,
   "metadata": {},
   "outputs": [],
   "source": [
    "import numpy as np"
   ]
  },
  {
   "cell_type": "markdown",
   "metadata": {},
   "source": [
    "Firstly we call in the `.txt` files containing the data"
   ]
  },
  {
   "cell_type": "code",
   "execution_count": 2,
   "metadata": {},
   "outputs": [
    {
     "name": "stdout",
     "output_type": "stream",
     "text": [
      "[0.559 0.382 0.427 ... 0.589 0.536   nan] \n",
      "\n",
      "[0.257 0.233 0.223 ... 0.282 0.278   nan] \n",
      "\n"
     ]
    }
   ],
   "source": [
    "noPar=np.genfromtxt(\"noParallel/nopar.txt\",dtype=np.float32,delimiter=',')\n",
    "Par=np.genfromtxt(\"Parallel/par.txt\",dtype=np.float32,delimiter=',')\n",
    "print(noPar,\"\\n\")\n",
    "print(Par,\"\\n\")"
   ]
  },
  {
   "cell_type": "markdown",
   "metadata": {},
   "source": [
    "Next we work out the means $\\bar{t}_{serial}$ and $\\bar{t}_{parallel}$ and their respective standard deviations $\\sigma_{serial}$ and $\\sigma_{parallel}$"
   ]
  },
  {
   "cell_type": "code",
   "execution_count": 3,
   "metadata": {},
   "outputs": [],
   "source": [
    "Smean = np.nanmean(noPar)\n",
    "Pmean = np.nanmean(Par)\n",
    "Sstd = np.nanstd(noPar)\n",
    "Pstd = np.nanstd(Par)"
   ]
  },
  {
   "cell_type": "markdown",
   "metadata": {},
   "source": [
    "Then we print the analysis (the excessive characters are there to make the output \"prettier\")"
   ]
  },
  {
   "cell_type": "code",
   "execution_count": 4,
   "metadata": {},
   "outputs": [
    {
     "name": "stdout",
     "output_type": "stream",
     "text": [
      "\n",
      "============Serial Algorithm================\n",
      "\n",
      "There are 2001 entries\n",
      "The mean is 0.5583565831184387 and the standard deviation is 0.1354503482580185\n",
      "\n",
      "============Parallel Algorithm==============\n",
      "\n",
      "There are 2001 entries\n",
      "The mean is 0.23954150080680847 and the standard deviation is 0.020894648507237434\n",
      "\n",
      "============Algorithm Comparison============\n",
      "\n",
      "Parallel is 2.3309388160705566 times faster than Serial\n",
      "\n"
     ]
    }
   ],
   "source": [
    "print(\"\\n============Serial Algorithm================\")\n",
    "print(\"\\nThere are {} entries\".format(len(noPar)))\n",
    "print(\"The mean is {} and the standard deviation is {}\".format(Smean, Sstd))\n",
    "\n",
    "print(\"\\n============Parallel Algorithm==============\")\n",
    "print(\"\\nThere are {} entries\".format(len(Par)))\n",
    "print(\"The mean is {} and the standard deviation is {}\".format(Pmean, Pstd))\n",
    "\n",
    "print(\"\\n============Algorithm Comparison============\")\n",
    "print(\"\\nParallel is {} times faster than Serial\\n\".format(Smean/Pmean))\n"
   ]
  },
  {
   "cell_type": "code",
   "execution_count": null,
   "metadata": {},
   "outputs": [],
   "source": []
  }
 ],
 "metadata": {
  "kernelspec": {
   "display_name": "Python 3",
   "language": "python",
   "name": "python3"
  },
  "language_info": {
   "codemirror_mode": {
    "name": "ipython",
    "version": 3
   },
   "file_extension": ".py",
   "mimetype": "text/x-python",
   "name": "python",
   "nbconvert_exporter": "python",
   "pygments_lexer": "ipython3",
   "version": "3.6.3"
  }
 },
 "nbformat": 4,
 "nbformat_minor": 2
}
